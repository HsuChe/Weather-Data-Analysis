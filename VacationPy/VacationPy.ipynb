{
 "cells": [
  {
   "cell_type": "markdown",
   "source": [
    "# VacationPy\n",
    "----\n",
    "\n",
    "#### Note\n",
    "* Keep an eye on your API usage. Use https://developers.google.com/maps/reporting/gmp-reporting as reference for how to monitor your usage and billing.\n",
    "\n",
    "* Instructions have been included for each segment. You do not have to follow them exactly, but they are included to help you think through the steps."
   ],
   "metadata": {}
  },
  {
   "cell_type": "code",
   "execution_count": 1,
   "source": [
    "# Dependencies and Setup\r\n",
    "import matplotlib.pyplot as plt\r\n",
    "import pandas as pd\r\n",
    "import numpy as np\r\n",
    "import requests\r\n",
    "import gmaps\r\n",
    "import os\r\n",
    "\r\n",
    "# Import API key\r\n",
    "from api_keys import g_key"
   ],
   "outputs": [],
   "metadata": {}
  },
  {
   "cell_type": "markdown",
   "source": [
    "### Store Part I results into DataFrame\n",
    "* Load the csv exported in Part I to a DataFrame"
   ],
   "metadata": {}
  },
  {
   "cell_type": "code",
   "execution_count": 8,
   "source": [
    "\r\n",
    "df_raw  = pd.read_csv('../WeatherPy/Data/Cities_clean.csv')\r\n",
    "google_url = 'base_url = \"https://maps.googleapis.com/maps/api/geocode/json'\r\n",
    "params = {\r\n",
    "    \r\n",
    "}"
   ],
   "outputs": [],
   "metadata": {}
  },
  {
   "cell_type": "markdown",
   "source": [
    "### Humidity Heatmap\n",
    "* Configure gmaps.\n",
    "* Use the Lat and Lng as locations and Humidity as the weight.\n",
    "* Add Heatmap layer to map."
   ],
   "metadata": {}
  },
  {
   "cell_type": "code",
   "execution_count": 16,
   "source": [
    "# configure the gmaps and putting int the google API key.\r\n",
    "# gmaps.configure(api_key=g_key)\r\n",
    "\r\n",
    "# isolate the locations that we want.\\\r\n",
    "# we want specificall the Lat, Long, and Humidity Data.\r\n",
    "test_data  = df_raw[['Lat','Long','Humidity']].head()\r\n",
    "test_data\r\n",
    "\r\n"
   ],
   "outputs": [
    {
     "output_type": "execute_result",
     "data": {
      "text/plain": [
       "       Lat      Long  Humidity\n",
       "0   2.1500   21.5167      95.0\n",
       "1 -20.1833   25.2333      70.0\n",
       "2  37.7667  -25.7000      88.0\n",
       "3  35.4275  119.4553      88.0\n",
       "4  -0.8917  119.8707      70.0"
      ],
      "text/html": [
       "<div>\n",
       "<style scoped>\n",
       "    .dataframe tbody tr th:only-of-type {\n",
       "        vertical-align: middle;\n",
       "    }\n",
       "\n",
       "    .dataframe tbody tr th {\n",
       "        vertical-align: top;\n",
       "    }\n",
       "\n",
       "    .dataframe thead th {\n",
       "        text-align: right;\n",
       "    }\n",
       "</style>\n",
       "<table border=\"1\" class=\"dataframe\">\n",
       "  <thead>\n",
       "    <tr style=\"text-align: right;\">\n",
       "      <th></th>\n",
       "      <th>Lat</th>\n",
       "      <th>Long</th>\n",
       "      <th>Humidity</th>\n",
       "    </tr>\n",
       "  </thead>\n",
       "  <tbody>\n",
       "    <tr>\n",
       "      <th>0</th>\n",
       "      <td>2.1500</td>\n",
       "      <td>21.5167</td>\n",
       "      <td>95.0</td>\n",
       "    </tr>\n",
       "    <tr>\n",
       "      <th>1</th>\n",
       "      <td>-20.1833</td>\n",
       "      <td>25.2333</td>\n",
       "      <td>70.0</td>\n",
       "    </tr>\n",
       "    <tr>\n",
       "      <th>2</th>\n",
       "      <td>37.7667</td>\n",
       "      <td>-25.7000</td>\n",
       "      <td>88.0</td>\n",
       "    </tr>\n",
       "    <tr>\n",
       "      <th>3</th>\n",
       "      <td>35.4275</td>\n",
       "      <td>119.4553</td>\n",
       "      <td>88.0</td>\n",
       "    </tr>\n",
       "    <tr>\n",
       "      <th>4</th>\n",
       "      <td>-0.8917</td>\n",
       "      <td>119.8707</td>\n",
       "      <td>70.0</td>\n",
       "    </tr>\n",
       "  </tbody>\n",
       "</table>\n",
       "</div>"
      ]
     },
     "metadata": {},
     "execution_count": 16
    }
   ],
   "metadata": {}
  },
  {
   "cell_type": "code",
   "execution_count": 24,
   "source": [
    "# add the heatmaps according to the test data. \r\n",
    "# to do this, we need to create the heat layer and add it to google maps\r\n",
    "# activate google maps \r\n",
    "google_maps = gmaps.figure()\r\n",
    "max_humidity = test_data['Humidity'].max()\r\n",
    "\r\n",
    "# create heat layers\r\n",
    "heatmap_layer = gmaps.heatmap_layer(\r\n",
    "    test_data[['Lat','Long']], \r\n",
    "    weights = test_data['Humidity'], \r\n",
    "    max_intensity = max_intensity,\r\n",
    "    dissipating=False, \r\n",
    "    point_radius = 1\r\n",
    ")\r\n",
    "\r\n",
    "# add the heat layer to the google_maps\r\n",
    "google_maps.add_layer(heatmap_layer)\r\n",
    "google_maps"
   ],
   "outputs": [
    {
     "output_type": "display_data",
     "data": {
      "text/plain": [
       "Figure(layout=FigureLayout(height='420px'))"
      ],
      "application/vnd.jupyter.widget-view+json": {
       "version_major": 2,
       "version_minor": 0,
       "model_id": "0f54b31e7e9241e5b106151ab4dd6a95"
      }
     },
     "metadata": {}
    }
   ],
   "metadata": {}
  },
  {
   "cell_type": "markdown",
   "source": [
    "### Create new DataFrame fitting weather criteria\n",
    "* Narrow down the cities to fit weather conditions.\n",
    "* Drop any rows will null values."
   ],
   "metadata": {}
  },
  {
   "cell_type": "code",
   "execution_count": null,
   "source": [],
   "outputs": [],
   "metadata": {}
  },
  {
   "cell_type": "markdown",
   "source": [
    "### Hotel Map\n",
    "* Store into variable named `hotel_df`.\n",
    "* Add a \"Hotel Name\" column to the DataFrame.\n",
    "* Set parameters to search for hotels with 5000 meters.\n",
    "* Hit the Google Places API for each city's coordinates.\n",
    "* Store the first Hotel result into the DataFrame.\n",
    "* Plot markers on top of the heatmap."
   ],
   "metadata": {}
  },
  {
   "cell_type": "code",
   "execution_count": null,
   "source": [],
   "outputs": [],
   "metadata": {}
  },
  {
   "cell_type": "code",
   "execution_count": null,
   "source": [],
   "outputs": [],
   "metadata": {}
  },
  {
   "cell_type": "code",
   "execution_count": null,
   "source": [
    "# NOTE: Do not change any of the code in this cell\r\n",
    "\r\n",
    "# Using the template add the hotel marks to the heatmap\r\n",
    "info_box_template = \"\"\"\r\n",
    "<dl>\r\n",
    "<dt>Name</dt><dd>{Hotel Name}</dd>\r\n",
    "<dt>City</dt><dd>{City}</dd>\r\n",
    "<dt>Country</dt><dd>{Country}</dd>\r\n",
    "</dl>\r\n",
    "\"\"\"\r\n",
    "# Store the DataFrame Row\r\n",
    "# NOTE: be sure to update with your DataFrame name\r\n",
    "hotel_info = [info_box_template.format(**row) for index, row in hotel_df.iterrows()]\r\n",
    "locations = hotel_df[[\"Lat\", \"Lng\"]]"
   ],
   "outputs": [],
   "metadata": {}
  },
  {
   "cell_type": "code",
   "execution_count": null,
   "source": [
    "# Add marker layer ontop of heat map\r\n",
    "\r\n",
    "\r\n",
    "# Display figure\r\n"
   ],
   "outputs": [],
   "metadata": {}
  },
  {
   "cell_type": "code",
   "execution_count": null,
   "source": [],
   "outputs": [],
   "metadata": {}
  }
 ],
 "metadata": {
  "kernelspec": {
   "name": "python3",
   "display_name": "Python 3.9.4 64-bit (conda)"
  },
  "language_info": {
   "codemirror_mode": {
    "name": "ipython",
    "version": 3
   },
   "file_extension": ".py",
   "mimetype": "text/x-python",
   "name": "python",
   "nbconvert_exporter": "python",
   "pygments_lexer": "ipython3",
   "version": "3.9.4"
  },
  "latex_envs": {
   "LaTeX_envs_menu_present": true,
   "autoclose": false,
   "autocomplete": true,
   "bibliofile": "biblio.bib",
   "cite_by": "apalike",
   "current_citInitial": 1,
   "eqLabelWithNumbers": true,
   "eqNumInitial": 1,
   "hotkeys": {
    "equation": "Ctrl-E",
    "itemize": "Ctrl-I"
   },
   "labels_anchors": false,
   "latex_user_defs": false,
   "report_style_numbering": false,
   "user_envs_cfg": false
  },
  "interpreter": {
   "hash": "34f272d8157fdf46b47d42224e7979d309dc160809bb0a91383f850ebed3338e"
  }
 },
 "nbformat": 4,
 "nbformat_minor": 4
}