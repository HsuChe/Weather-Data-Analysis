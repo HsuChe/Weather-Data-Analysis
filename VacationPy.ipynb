{
 "cells": [
  {
   "cell_type": "markdown",
   "source": [
    "# VacationPy\n",
    "----\n",
    "\n",
    "#### Note\n",
    "* Keep an eye on your API usage. Use https://developers.google.com/maps/reporting/gmp-reporting as reference for how to monitor your usage and billing.\n",
    "\n",
    "* Instructions have been included for each segment. You do not have to follow them exactly, but they are included to help you think through the steps."
   ],
   "metadata": {}
  },
  {
   "cell_type": "code",
   "execution_count": 73,
   "source": [
    "# Dependencies and Setup\r\n",
    "import matplotlib.pyplot as plt\r\n",
    "import pandas as pd\r\n",
    "import numpy as np\r\n",
    "import requests\r\n",
    "import gmaps\r\n",
    "\r\n",
    "# Import API key\r\n",
    "from api_keys import g_key"
   ],
   "outputs": [],
   "metadata": {}
  },
  {
   "cell_type": "markdown",
   "source": [
    "### Store Part I results into DataFrame\n",
    "* Load the csv exported in Part I to a DataFrame"
   ],
   "metadata": {}
  },
  {
   "cell_type": "code",
   "execution_count": 77,
   "source": [
    "\r\n",
    "df_raw  = pd.read_csv('Data/Cities_clean.csv')\r\n",
    "google_url = 'base_url = \"https://maps.googleapis.com/maps/api/geocode/json'\r\n",
    "\r\n",
    "df_raw = df_raw.drop(['Unnamed: 0'], axis = 1)"
   ],
   "outputs": [],
   "metadata": {}
  },
  {
   "cell_type": "markdown",
   "source": [
    "### Humidity Heatmap\n",
    "* Configure gmaps.\n",
    "* Use the Lat and Lng as locations and Humidity as the weight.\n",
    "* Add Heatmap layer to map."
   ],
   "metadata": {}
  },
  {
   "cell_type": "code",
   "execution_count": 68,
   "source": [
    "# configure the gmaps and putting int the google API key.\n",
    "# gmaps.configure(api_key=g_key)\n",
    "\n",
    "# isolate the locations that we want.\\\n",
    "# we want specificall the Lat, Long, and Humidity Data.\n",
    "test_data  = df_raw[['Lat','Long','Humidity']].head()\n",
    "test_data\n",
    "\n"
   ],
   "outputs": [],
   "metadata": {}
  },
  {
   "cell_type": "code",
   "execution_count": 69,
   "source": [
    "# add the heatmaps according to the test data. \r\n",
    "# to do this, we need to create the heat layer and add it to google maps\r\n",
    "# activate google maps \r\n",
    "fig = gmaps.figure()\r\n",
    "locations = test_data[[\"Lat\", \"Long\"]]\r\n",
    "rating = test_data[\"Humidity\"].astype(float)\r\n",
    "max_humidity = test_data['Humidity'].max()\r\n",
    "\r\n",
    "# Create heat layer\r\n",
    "heat_layer = gmaps.heatmap_layer(locations, weights=rating, \r\n",
    "                                 dissipating=False, max_intensity=max_humidity,\r\n",
    "                                 point_radius=1)\r\n",
    "\r\n",
    "\r\n",
    "# Add layer\r\n",
    "fig.add_layer(heat_layer)\r\n",
    "\r\n",
    "# Display figure\r\n",
    "fig"
   ],
   "outputs": [
    {
     "output_type": "display_data",
     "data": {
      "text/plain": [
       "Figure(layout=FigureLayout(height='420px'))"
      ],
      "application/vnd.jupyter.widget-view+json": {
       "version_major": 2,
       "version_minor": 0,
       "model_id": "bdb189d3bbe44f4f98ca9a9a4b21e4c7"
      }
     },
     "metadata": {}
    }
   ],
   "metadata": {}
  },
  {
   "cell_type": "code",
   "execution_count": null,
   "source": [],
   "outputs": [],
   "metadata": {}
  },
  {
   "cell_type": "markdown",
   "source": [
    "### Create new DataFrame fitting weather criteria\r\n",
    "* Narrow down the cities to fit weather conditions.\r\n",
    "* Drop any rows will null values."
   ],
   "metadata": {}
  },
  {
   "cell_type": "code",
   "execution_count": 80,
   "source": [
    "# max temperature lower than 80 but higher than 70\r\n",
    "df_temp = df_raw.loc[df_raw['Max Temp'] < 80 ]\r\n",
    "df_temp = df_temp.loc[df_raw['Max Temp'] > 70 ]\r\n",
    "# # wind speed less than 10mph\r\n",
    "df_wind = df_temp.loc[df_temp['Wind Speed'] < 10]\r\n",
    "# # zero cloudiness\r\n",
    "df_cloud = df_wind.loc[df_wind['Cloudiness'] == 0]\r\n",
    "df_clean = df_cloud.reset_index(drop=True)\r\n",
    "df_clean"
   ],
   "outputs": [
    {
     "output_type": "execute_result",
     "data": {
      "text/plain": [
       "           city      Lat      Long  Max Temp  Humidity  Cloudiness  \\\n",
       "0        murgab  37.4966   61.9714     76.87      33.0         0.0   \n",
       "1       nazilli  37.9163   28.3223     77.52      44.0         0.0   \n",
       "2      nichinan  31.6000  131.3667     76.68      79.0         0.0   \n",
       "3      bardiyah  31.7561   25.0865     78.48      67.0         0.0   \n",
       "4       changde  29.0464  111.6783     77.43      86.0         0.0   \n",
       "5      kurtalan  37.9272   41.7028     73.62      19.0         0.0   \n",
       "6     neyshabur  36.2133   58.7958     75.97      22.0         0.0   \n",
       "7  port-de-bouc  43.4000    4.9833     73.62      76.0         0.0   \n",
       "\n",
       "   Wind Speed          Date  \n",
       "0        9.22  1.627423e+09  \n",
       "1        4.72  1.627423e+09  \n",
       "2        2.68  1.627423e+09  \n",
       "3        5.73  1.627423e+09  \n",
       "4        3.87  1.627423e+09  \n",
       "5        1.68  1.627423e+09  \n",
       "6        4.03  1.627423e+09  \n",
       "7        6.91  1.627423e+09  "
      ],
      "text/html": [
       "<div>\n",
       "<style scoped>\n",
       "    .dataframe tbody tr th:only-of-type {\n",
       "        vertical-align: middle;\n",
       "    }\n",
       "\n",
       "    .dataframe tbody tr th {\n",
       "        vertical-align: top;\n",
       "    }\n",
       "\n",
       "    .dataframe thead th {\n",
       "        text-align: right;\n",
       "    }\n",
       "</style>\n",
       "<table border=\"1\" class=\"dataframe\">\n",
       "  <thead>\n",
       "    <tr style=\"text-align: right;\">\n",
       "      <th></th>\n",
       "      <th>city</th>\n",
       "      <th>Lat</th>\n",
       "      <th>Long</th>\n",
       "      <th>Max Temp</th>\n",
       "      <th>Humidity</th>\n",
       "      <th>Cloudiness</th>\n",
       "      <th>Wind Speed</th>\n",
       "      <th>Date</th>\n",
       "    </tr>\n",
       "  </thead>\n",
       "  <tbody>\n",
       "    <tr>\n",
       "      <th>0</th>\n",
       "      <td>murgab</td>\n",
       "      <td>37.4966</td>\n",
       "      <td>61.9714</td>\n",
       "      <td>76.87</td>\n",
       "      <td>33.0</td>\n",
       "      <td>0.0</td>\n",
       "      <td>9.22</td>\n",
       "      <td>1.627423e+09</td>\n",
       "    </tr>\n",
       "    <tr>\n",
       "      <th>1</th>\n",
       "      <td>nazilli</td>\n",
       "      <td>37.9163</td>\n",
       "      <td>28.3223</td>\n",
       "      <td>77.52</td>\n",
       "      <td>44.0</td>\n",
       "      <td>0.0</td>\n",
       "      <td>4.72</td>\n",
       "      <td>1.627423e+09</td>\n",
       "    </tr>\n",
       "    <tr>\n",
       "      <th>2</th>\n",
       "      <td>nichinan</td>\n",
       "      <td>31.6000</td>\n",
       "      <td>131.3667</td>\n",
       "      <td>76.68</td>\n",
       "      <td>79.0</td>\n",
       "      <td>0.0</td>\n",
       "      <td>2.68</td>\n",
       "      <td>1.627423e+09</td>\n",
       "    </tr>\n",
       "    <tr>\n",
       "      <th>3</th>\n",
       "      <td>bardiyah</td>\n",
       "      <td>31.7561</td>\n",
       "      <td>25.0865</td>\n",
       "      <td>78.48</td>\n",
       "      <td>67.0</td>\n",
       "      <td>0.0</td>\n",
       "      <td>5.73</td>\n",
       "      <td>1.627423e+09</td>\n",
       "    </tr>\n",
       "    <tr>\n",
       "      <th>4</th>\n",
       "      <td>changde</td>\n",
       "      <td>29.0464</td>\n",
       "      <td>111.6783</td>\n",
       "      <td>77.43</td>\n",
       "      <td>86.0</td>\n",
       "      <td>0.0</td>\n",
       "      <td>3.87</td>\n",
       "      <td>1.627423e+09</td>\n",
       "    </tr>\n",
       "    <tr>\n",
       "      <th>5</th>\n",
       "      <td>kurtalan</td>\n",
       "      <td>37.9272</td>\n",
       "      <td>41.7028</td>\n",
       "      <td>73.62</td>\n",
       "      <td>19.0</td>\n",
       "      <td>0.0</td>\n",
       "      <td>1.68</td>\n",
       "      <td>1.627423e+09</td>\n",
       "    </tr>\n",
       "    <tr>\n",
       "      <th>6</th>\n",
       "      <td>neyshabur</td>\n",
       "      <td>36.2133</td>\n",
       "      <td>58.7958</td>\n",
       "      <td>75.97</td>\n",
       "      <td>22.0</td>\n",
       "      <td>0.0</td>\n",
       "      <td>4.03</td>\n",
       "      <td>1.627423e+09</td>\n",
       "    </tr>\n",
       "    <tr>\n",
       "      <th>7</th>\n",
       "      <td>port-de-bouc</td>\n",
       "      <td>43.4000</td>\n",
       "      <td>4.9833</td>\n",
       "      <td>73.62</td>\n",
       "      <td>76.0</td>\n",
       "      <td>0.0</td>\n",
       "      <td>6.91</td>\n",
       "      <td>1.627423e+09</td>\n",
       "    </tr>\n",
       "  </tbody>\n",
       "</table>\n",
       "</div>"
      ]
     },
     "metadata": {},
     "execution_count": 80
    }
   ],
   "metadata": {}
  },
  {
   "cell_type": "markdown",
   "source": [
    "### Hotel Map\r\n",
    "* Store into variable named `hotel_df`.\r\n",
    "* Add a \"Hotel Name\" column to the DataFrame.\r\n",
    "* Set parameters to search for hotels with 5000 meters.\r\n",
    "* Hit the Google Places API for each city's coordinates.\r\n",
    "* Store the first Hotel result into the DataFrame.\r\n",
    "* Plot markers on top of the heatmap."
   ],
   "metadata": {}
  },
  {
   "cell_type": "code",
   "execution_count": null,
   "source": [],
   "outputs": [],
   "metadata": {}
  },
  {
   "cell_type": "code",
   "execution_count": null,
   "source": [],
   "outputs": [],
   "metadata": {}
  },
  {
   "cell_type": "code",
   "execution_count": null,
   "source": [
    "# NOTE: Do not change any of the code in this cell\r\n",
    "\r\n",
    "# Using the template add the hotel marks to the heatmap\r\n",
    "info_box_template = \"\"\"\r\n",
    "<dl>\r\n",
    "<dt>Name</dt><dd>{Hotel Name}</dd>\r\n",
    "<dt>City</dt><dd>{City}</dd>\r\n",
    "<dt>Country</dt><dd>{Country}</dd>\r\n",
    "</dl>\r\n",
    "\"\"\"\r\n",
    "# Store the DataFrame Row\r\n",
    "# NOTE: be sure to update with your DataFrame name\r\n",
    "hotel_info = [info_box_template.format(**row) for index, row in hotel_df.iterrows()]\r\n",
    "locations = hotel_df[[\"Lat\", \"Lng\"]]"
   ],
   "outputs": [],
   "metadata": {}
  },
  {
   "cell_type": "code",
   "execution_count": null,
   "source": [
    "# Add marker layer ontop of heat map\r\n",
    "\r\n",
    "\r\n",
    "# Display figure\r\n"
   ],
   "outputs": [],
   "metadata": {}
  },
  {
   "cell_type": "code",
   "execution_count": null,
   "source": [],
   "outputs": [],
   "metadata": {}
  }
 ],
 "metadata": {
  "interpreter": {
   "hash": "34f272d8157fdf46b47d42224e7979d309dc160809bb0a91383f850ebed3338e"
  },
  "kernelspec": {
   "display_name": "PythonEnv3.9",
   "language": "python",
   "name": "pythonenv3.9"
  },
  "language_info": {
   "codemirror_mode": {
    "name": "ipython",
    "version": 3
   },
   "file_extension": ".py",
   "mimetype": "text/x-python",
   "name": "python",
   "nbconvert_exporter": "python",
   "pygments_lexer": "ipython3",
   "version": "3.9.4"
  },
  "latex_envs": {
   "LaTeX_envs_menu_present": true,
   "autoclose": false,
   "autocomplete": true,
   "bibliofile": "biblio.bib",
   "cite_by": "apalike",
   "current_citInitial": 1,
   "eqLabelWithNumbers": true,
   "eqNumInitial": 1,
   "hotkeys": {
    "equation": "Ctrl-E",
    "itemize": "Ctrl-I"
   },
   "labels_anchors": false,
   "latex_user_defs": false,
   "report_style_numbering": false,
   "user_envs_cfg": false
  }
 },
 "nbformat": 4,
 "nbformat_minor": 4
}